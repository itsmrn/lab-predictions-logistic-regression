{
 "cells": [
  {
   "cell_type": "code",
   "execution_count": 1,
   "id": "84ddf985",
   "metadata": {},
   "outputs": [],
   "source": [
    "import pandas as pd\n",
    "import numpy as np\n",
    "import matplotlib.pyplot as plt\n",
    "import seaborn as sns\n",
    "import mysql.connector\n",
    "\n",
    "\n",
    "import warnings\n",
    "warnings.filterwarnings(\"ignore\", category=DeprecationWarning)\n",
    "warnings.filterwarnings('ignore')"
   ]
  },
  {
   "cell_type": "markdown",
   "id": "1b0e2528",
   "metadata": {},
   "source": [
    "In this lab, you will be using the Sakila database of movie rentals.\n",
    "\n",
    "In order to optimize our inventory, we would like to know which films will be rented next month and we are asked to create a model to predict it."
   ]
  },
  {
   "cell_type": "markdown",
   "id": "c2fb69aa",
   "metadata": {},
   "source": [
    "#### Create a query or queries to extract the information you think may be relevant for building the prediction model. It should include some film features and some rental features."
   ]
  },
  {
   "cell_type": "markdown",
   "id": "98249f03",
   "metadata": {},
   "source": [
    "#### Read the data into a Pandas dataframe."
   ]
  },
  {
   "cell_type": "code",
   "execution_count": 2,
   "id": "82294b89",
   "metadata": {},
   "outputs": [],
   "source": [
    "from mysql.connector import connect\n",
    "from getpass import getpass"
   ]
  },
  {
   "cell_type": "code",
   "execution_count": 3,
   "id": "8e8ed406",
   "metadata": {},
   "outputs": [
    {
     "name": "stdin",
     "output_type": "stream",
     "text": [
      "Enter password:  ········\n"
     ]
    }
   ],
   "source": [
    "db = connect(\n",
    "        host= \"localhost\",\n",
    "        user = \"root\",\n",
    "        passwd = getpass(\"Enter password: \"),\n",
    "        database= \"sakila\"\n",
    "   )"
   ]
  },
  {
   "cell_type": "code",
   "execution_count": 4,
   "id": "9e90e731",
   "metadata": {},
   "outputs": [],
   "source": [
    "cursor = db.cursor()"
   ]
  },
  {
   "cell_type": "code",
   "execution_count": 5,
   "id": "876e3885",
   "metadata": {},
   "outputs": [],
   "source": [
    "rentals_sql = \"select * from python_table;\""
   ]
  },
  {
   "cell_type": "code",
   "execution_count": 6,
   "id": "5e28c99f",
   "metadata": {},
   "outputs": [],
   "source": [
    "predictions = pd.read_sql_query(rentals_sql,db)"
   ]
  },
  {
   "cell_type": "code",
   "execution_count": 7,
   "id": "69a7fcbf",
   "metadata": {},
   "outputs": [
    {
     "data": {
      "text/html": [
       "<div>\n",
       "<style scoped>\n",
       "    .dataframe tbody tr th:only-of-type {\n",
       "        vertical-align: middle;\n",
       "    }\n",
       "\n",
       "    .dataframe tbody tr th {\n",
       "        vertical-align: top;\n",
       "    }\n",
       "\n",
       "    .dataframe thead th {\n",
       "        text-align: right;\n",
       "    }\n",
       "</style>\n",
       "<table border=\"1\" class=\"dataframe\">\n",
       "  <thead>\n",
       "    <tr style=\"text-align: right;\">\n",
       "      <th></th>\n",
       "      <th>title</th>\n",
       "      <th>film_id</th>\n",
       "      <th>Frequency</th>\n",
       "      <th>release_year</th>\n",
       "      <th>length</th>\n",
       "      <th>Rental_Date</th>\n",
       "      <th>Return_Date</th>\n",
       "      <th>rental_duration</th>\n",
       "      <th>category</th>\n",
       "    </tr>\n",
       "  </thead>\n",
       "  <tbody>\n",
       "    <tr>\n",
       "      <th>0</th>\n",
       "      <td>ZORRO ARK</td>\n",
       "      <td>1000</td>\n",
       "      <td>2005-07-12</td>\n",
       "      <td>2006</td>\n",
       "      <td>50</td>\n",
       "      <td>2005-07-12</td>\n",
       "      <td>2005-07-16</td>\n",
       "      <td>3</td>\n",
       "      <td>Comedy</td>\n",
       "    </tr>\n",
       "    <tr>\n",
       "      <th>1</th>\n",
       "      <td>ZORRO ARK</td>\n",
       "      <td>1000</td>\n",
       "      <td>2005-07-29</td>\n",
       "      <td>2006</td>\n",
       "      <td>50</td>\n",
       "      <td>2005-07-29</td>\n",
       "      <td>2005-08-06</td>\n",
       "      <td>3</td>\n",
       "      <td>Comedy</td>\n",
       "    </tr>\n",
       "    <tr>\n",
       "      <th>2</th>\n",
       "      <td>ZORRO ARK</td>\n",
       "      <td>1000</td>\n",
       "      <td>2005-08-19</td>\n",
       "      <td>2006</td>\n",
       "      <td>50</td>\n",
       "      <td>2005-08-19</td>\n",
       "      <td>2005-08-27</td>\n",
       "      <td>3</td>\n",
       "      <td>Comedy</td>\n",
       "    </tr>\n",
       "    <tr>\n",
       "      <th>3</th>\n",
       "      <td>ZORRO ARK</td>\n",
       "      <td>1000</td>\n",
       "      <td>2005-06-17</td>\n",
       "      <td>2006</td>\n",
       "      <td>50</td>\n",
       "      <td>2005-06-17</td>\n",
       "      <td>2005-06-24</td>\n",
       "      <td>3</td>\n",
       "      <td>Comedy</td>\n",
       "    </tr>\n",
       "    <tr>\n",
       "      <th>4</th>\n",
       "      <td>ZORRO ARK</td>\n",
       "      <td>1000</td>\n",
       "      <td>2005-07-07</td>\n",
       "      <td>2006</td>\n",
       "      <td>50</td>\n",
       "      <td>2005-07-07</td>\n",
       "      <td>2005-07-08</td>\n",
       "      <td>3</td>\n",
       "      <td>Comedy</td>\n",
       "    </tr>\n",
       "  </tbody>\n",
       "</table>\n",
       "</div>"
      ],
      "text/plain": [
       "       title  film_id   Frequency  release_year  length Rental_Date  \\\n",
       "0  ZORRO ARK     1000  2005-07-12          2006      50  2005-07-12   \n",
       "1  ZORRO ARK     1000  2005-07-29          2006      50  2005-07-29   \n",
       "2  ZORRO ARK     1000  2005-08-19          2006      50  2005-08-19   \n",
       "3  ZORRO ARK     1000  2005-06-17          2006      50  2005-06-17   \n",
       "4  ZORRO ARK     1000  2005-07-07          2006      50  2005-07-07   \n",
       "\n",
       "  Return_Date  rental_duration category  \n",
       "0  2005-07-16                3   Comedy  \n",
       "1  2005-08-06                3   Comedy  \n",
       "2  2005-08-27                3   Comedy  \n",
       "3  2005-06-24                3   Comedy  \n",
       "4  2005-07-08                3   Comedy  "
      ]
     },
     "execution_count": 7,
     "metadata": {},
     "output_type": "execute_result"
    }
   ],
   "source": [
    "predictions.head(5)"
   ]
  },
  {
   "cell_type": "markdown",
   "id": "dae9d6a9",
   "metadata": {},
   "source": [
    "#### Analyze extracted features and transform them. You may need to encode some categorical variables, or scale numerical variables.\n"
   ]
  },
  {
   "cell_type": "code",
   "execution_count": 8,
   "id": "82b651e2",
   "metadata": {},
   "outputs": [
    {
     "name": "stdout",
     "output_type": "stream",
     "text": [
      "<class 'pandas.core.frame.DataFrame'>\n",
      "RangeIndex: 16045 entries, 0 to 16044\n",
      "Data columns (total 9 columns):\n",
      " #   Column           Non-Null Count  Dtype \n",
      "---  ------           --------------  ----- \n",
      " 0   title            16045 non-null  object\n",
      " 1   film_id          16045 non-null  int64 \n",
      " 2   Frequency        16045 non-null  object\n",
      " 3   release_year     16045 non-null  int64 \n",
      " 4   length           16045 non-null  int64 \n",
      " 5   Rental_Date      16045 non-null  object\n",
      " 6   Return_Date      15862 non-null  object\n",
      " 7   rental_duration  16045 non-null  int64 \n",
      " 8   category         16045 non-null  object\n",
      "dtypes: int64(4), object(5)\n",
      "memory usage: 1.1+ MB\n"
     ]
    }
   ],
   "source": [
    "predictions.info()"
   ]
  },
  {
   "cell_type": "code",
   "execution_count": 9,
   "id": "796e252f",
   "metadata": {},
   "outputs": [
    {
     "data": {
      "text/plain": [
       "(16045, 9)"
      ]
     },
     "execution_count": 9,
     "metadata": {},
     "output_type": "execute_result"
    }
   ],
   "source": [
    "predictions.shape"
   ]
  },
  {
   "cell_type": "code",
   "execution_count": 10,
   "id": "4f4f14e4",
   "metadata": {},
   "outputs": [
    {
     "data": {
      "text/plain": [
       "16016    2022-08-24\n",
       "4824     2006-02-14\n",
       "11286    2006-02-14\n",
       "13633    2006-02-14\n",
       "2052     2006-02-14\n",
       "            ...    \n",
       "7843     2005-05-24\n",
       "8774     2005-05-24\n",
       "2075     2005-05-24\n",
       "14769    2005-05-24\n",
       "6248     2005-05-24\n",
       "Name: Rental_Date, Length: 16045, dtype: object"
      ]
     },
     "execution_count": 10,
     "metadata": {},
     "output_type": "execute_result"
    }
   ],
   "source": [
    "predictions.Rental_Date.sort_values(ascending=False)"
   ]
  },
  {
   "cell_type": "code",
   "execution_count": 11,
   "id": "94a9fc72",
   "metadata": {},
   "outputs": [
    {
     "data": {
      "text/plain": [
       "title                0\n",
       "film_id              0\n",
       "Frequency            0\n",
       "release_year         0\n",
       "length               0\n",
       "Rental_Date          0\n",
       "Return_Date        183\n",
       "rental_duration      0\n",
       "category             0\n",
       "dtype: int64"
      ]
     },
     "execution_count": 11,
     "metadata": {},
     "output_type": "execute_result"
    }
   ],
   "source": [
    "predictions.isna().sum()"
   ]
  },
  {
   "cell_type": "markdown",
   "id": "5cf6b89d",
   "metadata": {},
   "source": [
    "#### Create a query to get the list of films and a boolean indicating if it was rented last month. This would be our target variable.\n"
   ]
  },
  {
   "cell_type": "code",
   "execution_count": 12,
   "id": "dc4903e3",
   "metadata": {},
   "outputs": [],
   "source": [
    "#Convert into to datetime to do boolean\n",
    "import datetime as dt \n",
    "\n",
    "predictions[['Rental_Date','Return_Date']] = predictions[['Rental_Date','Return_Date']].apply(pd.to_datetime)\n"
   ]
  },
  {
   "cell_type": "code",
   "execution_count": 13,
   "id": "4ba950cb",
   "metadata": {},
   "outputs": [],
   "source": [
    "predictions[\"Rented_last_month\"] = (predictions['Rental_Date'] >= '2006-02-01') & (predictions['Rental_Date'] < '2006-03-01')"
   ]
  },
  {
   "cell_type": "code",
   "execution_count": 14,
   "id": "b3577ed1",
   "metadata": {},
   "outputs": [
    {
     "data": {
      "text/plain": [
       "False    15863\n",
       "True       182\n",
       "Name: Rented_last_month, dtype: int64"
      ]
     },
     "execution_count": 14,
     "metadata": {},
     "output_type": "execute_result"
    }
   ],
   "source": [
    "predictions.Rented_last_month.value_counts()"
   ]
  },
  {
   "cell_type": "code",
   "execution_count": 15,
   "id": "97a828e5",
   "metadata": {},
   "outputs": [
    {
     "name": "stdout",
     "output_type": "stream",
     "text": [
      "<class 'pandas.core.frame.DataFrame'>\n",
      "RangeIndex: 16045 entries, 0 to 16044\n",
      "Data columns (total 10 columns):\n",
      " #   Column             Non-Null Count  Dtype         \n",
      "---  ------             --------------  -----         \n",
      " 0   title              16045 non-null  object        \n",
      " 1   film_id            16045 non-null  int64         \n",
      " 2   Frequency          16045 non-null  object        \n",
      " 3   release_year       16045 non-null  int64         \n",
      " 4   length             16045 non-null  int64         \n",
      " 5   Rental_Date        16045 non-null  datetime64[ns]\n",
      " 6   Return_Date        15862 non-null  datetime64[ns]\n",
      " 7   rental_duration    16045 non-null  int64         \n",
      " 8   category           16045 non-null  object        \n",
      " 9   Rented_last_month  16045 non-null  bool          \n",
      "dtypes: bool(1), datetime64[ns](2), int64(4), object(3)\n",
      "memory usage: 1.1+ MB\n"
     ]
    }
   ],
   "source": [
    "predictions.info()"
   ]
  },
  {
   "cell_type": "code",
   "execution_count": 16,
   "id": "982ae942-3073-41e3-89bf-be29e5d36a6d",
   "metadata": {},
   "outputs": [],
   "source": [
    "from sklearn.preprocessing import LabelEncoder\n",
    "le = LabelEncoder()\n",
    "predictions.title = le.fit_transform(predictions.title)\n",
    "predictions.Frequency = le.fit_transform(predictions.Frequency)\n",
    "predictions.category = le.fit_transform(predictions.category)"
   ]
  },
  {
   "cell_type": "code",
   "execution_count": 17,
   "id": "be7f7f12-0733-43b0-bfd0-b7ede93d21f4",
   "metadata": {},
   "outputs": [
    {
     "name": "stdout",
     "output_type": "stream",
     "text": [
      "<class 'pandas.core.frame.DataFrame'>\n",
      "RangeIndex: 16045 entries, 0 to 16044\n",
      "Data columns (total 10 columns):\n",
      " #   Column             Non-Null Count  Dtype         \n",
      "---  ------             --------------  -----         \n",
      " 0   title              16045 non-null  int64         \n",
      " 1   film_id            16045 non-null  int64         \n",
      " 2   Frequency          16045 non-null  int64         \n",
      " 3   release_year       16045 non-null  int64         \n",
      " 4   length             16045 non-null  int64         \n",
      " 5   Rental_Date        16045 non-null  datetime64[ns]\n",
      " 6   Return_Date        15862 non-null  datetime64[ns]\n",
      " 7   rental_duration    16045 non-null  int64         \n",
      " 8   category           16045 non-null  int64         \n",
      " 9   Rented_last_month  16045 non-null  bool          \n",
      "dtypes: bool(1), datetime64[ns](2), int64(7)\n",
      "memory usage: 1.1 MB\n"
     ]
    }
   ],
   "source": [
    "predictions.info()"
   ]
  },
  {
   "cell_type": "markdown",
   "id": "571041ff",
   "metadata": {
    "tags": []
   },
   "source": [
    "#### Create a logistic regression model to predict this variable from the cleaned data."
   ]
  },
  {
   "cell_type": "code",
   "execution_count": 23,
   "id": "1dbe0889",
   "metadata": {
    "tags": []
   },
   "outputs": [],
   "source": [
    "X=predictions.drop([\"Rented_last_month\",\"Rental_Date\",\"Return_Date\"], axis=1)\n",
    "y=predictions[\"Rented_last_month\"]"
   ]
  },
  {
   "cell_type": "code",
   "execution_count": 24,
   "id": "5652e39e-34de-459b-b797-e8f537463e7d",
   "metadata": {},
   "outputs": [],
   "source": [
    "#train test split\n",
    "from sklearn.model_selection import train_test_split\n",
    "X_train, X_test, y_train, y_test = train_test_split(X,y,test_size=0.2,random_state=0)"
   ]
  },
  {
   "cell_type": "code",
   "execution_count": 25,
   "id": "9b47f4df",
   "metadata": {},
   "outputs": [],
   "source": [
    "# train a logistic model\n",
    "from sklearn.preprocessing import StandardScaler\n",
    "scaler = StandardScaler()\n",
    "X_train = scaler.fit_transform(X_train)\n",
    "X_test = scaler.transform(X_test)"
   ]
  },
  {
   "cell_type": "code",
   "execution_count": 26,
   "id": "67850e06",
   "metadata": {},
   "outputs": [],
   "source": [
    "from sklearn.metrics import confusion_matrix, classification_report\n",
    "from sklearn.linear_model import LogisticRegression\n",
    "\n",
    "\n",
    "model = LogisticRegression()\n",
    "model.fit(X_train,y_train)\n",
    "\n",
    "pred_train = model.predict(X_train)\n",
    "pred_test = model.predict(X_test)"
   ]
  },
  {
   "cell_type": "markdown",
   "id": "8f2a67a0",
   "metadata": {},
   "source": [
    "#### Evaluate the results.\n"
   ]
  },
  {
   "cell_type": "code",
   "execution_count": 28,
   "id": "9843b580-f7bc-425b-acd0-aa7c0fffbb48",
   "metadata": {},
   "outputs": [
    {
     "name": "stdout",
     "output_type": "stream",
     "text": [
      "Train Score : 0.9884699283265815\n",
      "Test Score : 0.9890931754440636\n"
     ]
    }
   ],
   "source": [
    "print(\"Train Score : {}\".format(model.score(X_train, y_train)))\n",
    "print('Test Score : {}'.format(model.score(X_test, y_test)))"
   ]
  },
  {
   "cell_type": "code",
   "execution_count": 29,
   "id": "28b0b46f",
   "metadata": {},
   "outputs": [
    {
     "name": "stdout",
     "output_type": "stream",
     "text": [
      "              precision    recall  f1-score   support\n",
      "\n",
      "       False       0.99      1.00      0.99      3174\n",
      "        True       0.00      0.00      0.00        35\n",
      "\n",
      "    accuracy                           0.99      3209\n",
      "   macro avg       0.49      0.50      0.50      3209\n",
      "weighted avg       0.98      0.99      0.98      3209\n",
      "\n",
      "              precision    recall  f1-score   support\n",
      "\n",
      "       False       0.99      1.00      0.99     12689\n",
      "        True       0.00      0.00      0.00       147\n",
      "\n",
      "    accuracy                           0.99     12836\n",
      "   macro avg       0.49      0.50      0.50     12836\n",
      "weighted avg       0.98      0.99      0.98     12836\n",
      "\n"
     ]
    }
   ],
   "source": [
    "print(classification_report(y_test,pred_test))\n",
    "print(classification_report(y_train, pred_train))"
   ]
  },
  {
   "cell_type": "raw",
   "id": "374c084b-f3e7-4891-a785-3d5c20ce9d71",
   "metadata": {},
   "source": [
    "Model seems to be working very well. "
   ]
  },
  {
   "cell_type": "code",
   "execution_count": null,
   "id": "45f8bf02",
   "metadata": {},
   "outputs": [],
   "source": []
  },
  {
   "cell_type": "code",
   "execution_count": null,
   "id": "69410b73",
   "metadata": {},
   "outputs": [],
   "source": []
  },
  {
   "cell_type": "code",
   "execution_count": null,
   "id": "a6891919",
   "metadata": {},
   "outputs": [],
   "source": []
  },
  {
   "cell_type": "code",
   "execution_count": null,
   "id": "ad4ca949",
   "metadata": {},
   "outputs": [],
   "source": []
  },
  {
   "cell_type": "code",
   "execution_count": null,
   "id": "92208154",
   "metadata": {},
   "outputs": [],
   "source": []
  },
  {
   "cell_type": "code",
   "execution_count": null,
   "id": "ce339ca6",
   "metadata": {},
   "outputs": [],
   "source": []
  },
  {
   "cell_type": "code",
   "execution_count": null,
   "id": "566165df",
   "metadata": {},
   "outputs": [],
   "source": []
  },
  {
   "cell_type": "code",
   "execution_count": null,
   "id": "8d2a2df2",
   "metadata": {},
   "outputs": [],
   "source": []
  }
 ],
 "metadata": {
  "kernelspec": {
   "display_name": "Python 3 (ipykernel)",
   "language": "python",
   "name": "python3"
  },
  "language_info": {
   "codemirror_mode": {
    "name": "ipython",
    "version": 3
   },
   "file_extension": ".py",
   "mimetype": "text/x-python",
   "name": "python",
   "nbconvert_exporter": "python",
   "pygments_lexer": "ipython3",
   "version": "3.9.12"
  }
 },
 "nbformat": 4,
 "nbformat_minor": 5
}
